{
 "cells": [
  {
   "cell_type": "markdown",
   "metadata": {},
   "source": [
    "## This laboratory will be conducted over two sessions\n",
    "## You are expected to finish the software and test the code in simulation between the sessions! ##\n",
    "\n",
    "# Manipulating objects\n",
    "\n",
    "For this laboratory, we will use two robots distant from each other of 25cm as depicted in the figure below\n",
    "\n",
    "<img src=\"./2_robot_config.png\" width=\"500\">\n",
    "\n",
    "There is 1cm between the end-effector \"shell\" and the position of the frame as depicted in the figure below\n",
    "\n",
    "<img src=\"./foot_close.png\" width=\"300\">\n",
    "\n",
    "<img src=\"./box.jpg\" width=\"200\">\n",
    "\n",
    "The objects to grasp are soft cubes with a 5cm side.\n",
    "Three cubes are stacked on top of each other. The goal of the laboratory is to design a controller to will move the two cubes on the top away\n",
    "and pick the bottom cube and lift it up by 10cm."
   ]
  },
  {
   "cell_type": "code",
   "execution_count": 4,
   "metadata": {},
   "outputs": [],
   "source": [
    "#setup nice plotting (use widget instead of notebook in the command below if you use jupyter lab)\n",
    "\n",
    "# we import useful libraries\n",
    "import numpy as np\n",
    "import matplotlib as mp\n",
    "import matplotlib.pyplot as plt\n",
    "from time import sleep\n",
    "\n",
    "# this function returns the body Jacobian\n",
    "from robot_utils import getBodyJacobianOrientedLikeSpatialFrame\n",
    "\n",
    "# we import the robot class\n",
    "use_real_robot = False\n",
    "\n",
    "if use_real_robot:\n",
    "    from NYUFinger.real import NYUDualFingerHardware as Robot   \n",
    "else:\n",
    "    from NYUFinger.sim import NYUDualFingerSimulator as Robot\n",
    "\n",
    "\n",
    "# here we define the global variables for the robot size\n",
    "l0 = 0.3\n",
    "l1 = 0.16\n",
    "l2 = 0.16\n",
    "l3 = 0.014"
   ]
  },
  {
   "cell_type": "markdown",
   "metadata": {},
   "source": [
    "## Instantiate The Robots\n",
    "If you're using the real robots, put them into zero position and then run the next cell to instantiate and reset them. "
   ]
  },
  {
   "cell_type": "code",
   "execution_count": null,
   "metadata": {},
   "outputs": [],
   "source": [
    "robot = Robot()\n",
    "if use_real_robot:\n",
    "    robot.reset_sensors()\n",
    "else:\n",
    "    robot.reset()"
   ]
  },
  {
   "cell_type": "markdown",
   "metadata": {},
   "source": [
    "You can also visualize the robot to ensure that the real movement of the robot matches the 3D simulator environment (Only if you're using the real robot)"
   ]
  },
  {
   "cell_type": "code",
   "execution_count": null,
   "metadata": {},
   "outputs": [],
   "source": [
    "import time\n",
    "if use_real_robot:\n",
    "    from NYUFinger.utils.vis import NYUDualFingerVisualizer\n",
    "    vis = NYUDualFingerVisualizer()\n",
    "    start_time = time.time()\n",
    "    while time.time()-start_time < 60:\n",
    "        q, dq = robot.get_state()\n",
    "        robot.send_joint_torque(np.zeros(6))\n",
    "        vis.show(q)\n",
    "        time.sleep(0.01)\n",
    "else:\n",
    "    print('This visualization is meaningless for the simulated robot experiment')"
   ]
  },
  {
   "cell_type": "markdown",
   "metadata": {},
   "source": [
    "## Interacting with the Robot\n",
    "For this lab, you'll be using two robots at the same time. Unlike the previous labs where the $\\tau$, $q$, and $dq$ were 3D vectors, in this lab robot takes 6D commands and returns 6D states. The first three numbers are for finger 1 (left) and the last three are for the finger 2 (right). Let's make sure you can read the sates and command the robot:"
   ]
  },
  {
   "cell_type": "code",
   "execution_count": null,
   "metadata": {},
   "outputs": [],
   "source": [
    "q, dq = robot.get_state()\n",
    "q1 = q[:3]\n",
    "q2 = q[3:]\n",
    "dq1 = dq[:3]\n",
    "dq2 = dq[3:]\n",
    "print(f'Robot1: q={q1}, dq1={dq1}')\n",
    "print(f'Robot2: q={q2}, dq1={dq2}')"
   ]
  },
  {
   "cell_type": "markdown",
   "metadata": {},
   "source": [
    "If you're using the simulator, you can also access the ground truth posiion of the cubes using `robot.get_cube_positions()` and reset their location using `robot.reset()`: "
   ]
  },
  {
   "cell_type": "code",
   "execution_count": null,
   "metadata": {},
   "outputs": [],
   "source": [
    "if not use_real_robot:\n",
    "    robot.reset()\n",
    "    print(robot.get_cube_positions())"
   ]
  },
  {
   "cell_type": "markdown",
   "metadata": {},
   "source": [
    "## Questions\n",
    "In this laboratory you are expected to re-use code from the previous laboratories (e.g. to plot, compute forward kinematics, etc) and solve the problem in both simulation and using the real robot. For both simulation and real robot deployment, you're expected to upload a short video of the robot solving the task alongside the report containing plots showing the robot reaching the desired 10cm goal for the designated cube.\n",
    "\n",
    "1. Using an impedance controller (Lab4 - use the ``getBodyJacobianOrientedLikeSpatialFrame`` function to get the Jacobian) and one trajectory generation method seen in Lab3 write a complete controller that solves the problem: move the top two cubes away, grasp the last cube and move it up by 10cm. In the report, describe in details the controller you designed (what it does, etc) and the results you obtained.\n",
    "\n",
    "2. Test your controller in simulation. Save and plot the results.\n",
    "   \n",
    "3. Test the controller on the real robots. Save and plot the results.\n",
    "\n",
    "4. (optional - bonus) Extend the controller to rearrange the cubes - putting the bottom one on top of the two others."
   ]
  },
  {
   "cell_type": "code",
   "execution_count": null,
   "metadata": {},
   "outputs": [],
   "source": [
    "# we simulate for 10 seconds\n",
    "run_time = 13.\n",
    "dt = 0.001\n",
    "num_steps = int(run_time/dt)\n",
    "\n",
    "# the PD gains\n",
    "P = np.array([1.5, 1.5, 1.5])\n",
    "D = np.array([0.05, 0.05, 0.05])\n",
    "\n",
    "\n",
    "## we allocate a few vectors to collect data while we do the simulation\n",
    "# we keep track of time\n",
    "time = np.zeros([num_steps])\n",
    "# we will store the sensor values (angular position and velocities)\n",
    "measured_positions_f1 = np.zeros([num_steps,3])\n",
    "measured_velocities_f1 = np.zeros_like(measured_positions_f1)\n",
    "measured_positions_f2 = np.zeros_like(measured_positions_f1)\n",
    "measured_velocities_f2 = np.zeros_like(measured_positions_f1)\n",
    "# we will store the end effector position (desired and measured)\n",
    "measured_finger_position_f1 = np.zeros([num_steps,3])\n",
    "desired_finger_position_f1 = np.zeros([num_steps,3])\n",
    "measured_finger_position_f2 = np.zeros([num_steps,3])\n",
    "desired_finger_position_f2 = np.zeros([num_steps,3])\n",
    "\n",
    "\n",
    "for i in range(num_steps):\n",
    "    # get the current time and save it\n",
    "    time[i] = dt * i\n",
    "    \n",
    "    # we get the position and velocities of the joints\n",
    "    q, dq = robot.get_state()\n",
    "    q1 = q[:3]\n",
    "    q2 = q[3:]\n",
    "    dq1 = dq[:3]\n",
    "    dq2 = dq[3:]\n",
    "    \n",
    "    # controller: TODO HERE IMPLEMENT YOUR CONTROLLER\n",
    "\n",
    "    joint_torques1 = np.zeros([3,1])\n",
    "    joint_torques2 = np.zeros([3,1])\n",
    "    joint_torques = np.vstack([joint_torques1, joint_torques2]).squeeze()\n",
    "    # we send them to the robot and do one simulation step\n",
    "    robot.send_joint_torque(joint_torques)\n",
    "    sleep(dt)"
   ]
  }
 ],
 "metadata": {
  "kernelspec": {
   "display_name": "rob2004",
   "language": "python",
   "name": "python3"
  },
  "language_info": {
   "codemirror_mode": {
    "name": "ipython",
    "version": 3
   },
   "file_extension": ".py",
   "mimetype": "text/x-python",
   "name": "python",
   "nbconvert_exporter": "python",
   "pygments_lexer": "ipython3",
   "version": "3.12.8"
  }
 },
 "nbformat": 4,
 "nbformat_minor": 4
}
