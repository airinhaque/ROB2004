{
 "cells": [
  {
   "cell_type": "markdown",
   "id": "78f67f9d",
   "metadata": {},
   "source": [
    "# ROB2004 Final Project - manipulation of objects\n",
    "\n",
    "The goal of this project is to solve a simple manipulation task.\n",
    "\n",
    "## Instructions\n",
    "* Solve the problem below.\n",
    "* You will need to submit on Brightspace: \n",
    "    1. the code you wrote to answer the questions in a Jupyter Notebook. The code should be runnable as is.\n",
    "    2. a report (maximum 3 pages) in pdf format detailing the methodology you followed to solve the problem. You should add plots in the report (does not count for the page limit).\n",
    "* This is an individual project (dual submission of code/report is not allowed)\n",
    "\n",
    "We will use a model of the Frank-Emika Panda robot. This robot has 7 revolute joints and its kinematics is described in the picture below.\n",
    "\n",
    "To run this project, you need to install Mujoco and Pinocchio. Please reach out as soon as possible for help if you do not know how to do it.\n",
    "\n",
    "<div>\n",
    "<img src=\"./panda.jpg\" width=\"200\"/>\n",
    "</div>"
   ]
  },
  {
   "cell_type": "markdown",
   "id": "b2e146e0",
   "metadata": {},
   "source": [
    "# Problem\n",
    "\n",
    "Implement controller(s) using the code skeleton below to get the robot to put the red cube inside the bowl and the blue cube on top of the tower of green cubes (without breaking the tower!).\n",
    "\n",
    "<div>\n",
    "<img src=\"./manipulation_scene.jpg\" width=\"400\"/>\n",
    "</div>\n",
    "\n",
    "You are free to use the methods that you want to solve the task, with the following constraints:\n",
    "* You cannot use any external library apart from numpy, scipy, cvxopt or proxQP\n",
    "* You need to use at least one task-space controller\n",
    "* You need to use at least one joint-space controll (with an inverse geometry method)\n",
    "* You need to compensate for the gravity of the robot\n",
    "\n",
    "In your report, describe the controllers you designed and justify your choices. Analyze the behavior of the system (include plots of the end-effector trajectories, velocities, joint trajectories, etc as you see fit). Do not copy-paste code in the report.\n",
    "\n",
    "## Scene details\n",
    "* The bowl is located 25cm forward and 40cm right of the robot.\n",
    "* The green tower is located 35cm forward and 50cm to the left of the robot\n",
    "* The blue cube is located 45cm forward and 20cm to the left of the robot\n",
    "* The red cube is located 50cm in front of the robot\n",
    "* The x axis of the robot base is pointing foward and its y axis is pointing to its left\n"
   ]
  },
  {
   "cell_type": "code",
   "execution_count": null,
   "id": "bcdcf06b",
   "metadata": {},
   "outputs": [],
   "source": [
    "# setup some librairies and display options\n",
    "%matplotlib widget\n",
    "\n",
    "import numpy as np\n",
    "import matplotlib.pyplot as plt\n",
    "\n",
    "import time\n",
    "\n",
    "# be careful we will only print the first 4 digits and round small numbers in arrays\n",
    "np.set_printoptions(suppress=True, precision=4)\n",
    "\n",
    "# this library contains the simulation and helper functions for the robot\n",
    "from MujocoSim import FR3Sim"
   ]
  },
  {
   "cell_type": "code",
   "execution_count": null,
   "id": "67813280",
   "metadata": {},
   "outputs": [],
   "source": [
    "# this creates the simulation environment\n",
    "my_robot = FR3Sim()"
   ]
  },
  {
   "cell_type": "code",
   "execution_count": null,
   "id": "d6b87fe3",
   "metadata": {},
   "outputs": [],
   "source": [
    "## the controller is run every 1ms\n",
    "\n",
    "## sample control loop running for 5 seconds (i.e. 5/0.001 = 5000 steps)\n",
    "num_steps = 5000\n",
    "\n",
    "for i in range(num_steps):\n",
    "    # this function gets the joint positions and velocities\n",
    "    q, dq = my_robot.get_state()\n",
    "\n",
    "    # this function computes the foward kinematics (given joint positions)\n",
    "    # it returns an homogeneous transform\n",
    "    T = my_robot.get_pose(q)\n",
    "    \n",
    "    # this function computes the endeffector Jacobian (given joint positions)\n",
    "    # the Jacobian maps joint velocities to endeffector twist (in endfefector frame! not worldframe)\n",
    "    jacobian = my_robot.get_jacobian(q)\n",
    "\n",
    "    ## this function get the gravity vector\n",
    "    gravity = my_robot.get_gravity(q)\n",
    "\n",
    "    # a damping controller and instruction to close and open the gripper\n",
    "    u = -40*dq\n",
    "    if i < num_steps/2:\n",
    "        gripper_command = -10. # this will close the gripper\n",
    "    else:\n",
    "        gripper_command = 10. # this will open the gripper\n",
    "\n",
    "    ## this function sends joint torques and \n",
    "    ## commands opening or closing of the gripper (positive number applies an opening force)\n",
    "    ## it will also advance the simulation by 1ms\n",
    "    my_robot.send_joint_torque(u, gripper_command)\n",
    "    time.sleep(0.001) # we wait 0.001 seconds to simulate the 1ms control loop\n"
   ]
  }
 ],
 "metadata": {
  "kernelspec": {
   "display_name": "rob2004",
   "language": "python",
   "name": "python3"
  },
  "language_info": {
   "codemirror_mode": {
    "name": "ipython",
    "version": 3
   },
   "file_extension": ".py",
   "mimetype": "text/x-python",
   "name": "python",
   "nbconvert_exporter": "python",
   "pygments_lexer": "ipython3",
   "version": "3.13.1"
  }
 },
 "nbformat": 4,
 "nbformat_minor": 5
}
